{
 "cells": [
  {
   "cell_type": "code",
   "execution_count": 1,
   "id": "aa4682d5-25dc-4dc7-99fa-3a91d60cb3d4",
   "metadata": {},
   "outputs": [
    {
     "data": {
      "text/plain": [
       "\"\\n1. . What are the five key concepts of Object-Oriented Programming (OOP)?\\n\\nAns:-\\n\\nThe five key concepts of Object-Oriented Programming (OOP) are: \\nAbstraction: Hides complex details from users and gives them the flexibility to change things. \\n\\nEncapsulation: Groups methods and data into a class unit, and prevents unauthorized access to parts of the object's components. \\n\\nInheritance: Allows a class to inherit attributes and methods from another class. \\n\\nPolymorphism: Allows objects of different classes to be treated as objects of a common base class. \\n\\nPolymorphism: Enables code to work with objects without knowing their exact types. \\n\""
      ]
     },
     "execution_count": 1,
     "metadata": {},
     "output_type": "execute_result"
    }
   ],
   "source": [
    "\"\"\"\n",
    "1. . What are the five key concepts of Object-Oriented Programming (OOP)?\n",
    "\n",
    "Ans:-\n",
    "\n",
    "The five key concepts of Object-Oriented Programming (OOP) are: \n",
    "Abstraction: Hides complex details from users and gives them the flexibility to change things. \n",
    "\n",
    "Encapsulation: Groups methods and data into a class unit, and prevents unauthorized access to parts of the object's components. \n",
    "\n",
    "Inheritance: Allows a class to inherit attributes and methods from another class. \n",
    "\n",
    "Polymorphism: Allows objects of different classes to be treated as objects of a common base class. \n",
    "\n",
    "Polymorphism: Enables code to work with objects without knowing their exact types. \n",
    "\"\"\""
   ]
  },
  {
   "cell_type": "code",
   "execution_count": 4,
   "id": "c1f7b4a5-cac3-4a5d-9948-edc95a4182ee",
   "metadata": {},
   "outputs": [
    {
     "name": "stdout",
     "output_type": "stream",
     "text": [
      "Maruti\n",
      "Swift\n",
      "2024\n"
     ]
    }
   ],
   "source": [
    "\"\"\"\n",
    "2. Write a Python class for a `Car` with attributes for `make`, `model`, and `year`. Include a method to display \n",
    "the car's information.\n",
    "\"\"\"\n",
    "class Car:\n",
    "    def __init__(self,make,model,year):\n",
    "        self.make=make\n",
    "        self.model=model\n",
    "        self.year=year\n",
    "    def display(self):\n",
    "        print(self.make)\n",
    "        print(self.model)\n",
    "        print(self.year)\n",
    "c1=Car(\"Maruti\",\"Swift\",2024)\n",
    "c1.display()\n",
    "    "
   ]
  },
  {
   "cell_type": "code",
   "execution_count": 1,
   "id": "6adcacdb-bb36-4a62-a70f-817ab1a30e64",
   "metadata": {},
   "outputs": [],
   "source": [
    "\"\"\"\n",
    "3. . Explain the difference between instance methods and class methods. Provide an example of each.\n",
    "\"\"\"\n",
    "\"\"\"\n",
    "Instance methods\n",
    "Require a class instance and can access both class and instance attributes through the argument self.\n",
    "They are the default choice for most methods within a class.\n",
    "Class methods\n",
    "Do not require a class instance and can only access class attributes through the argument cls. \n",
    "They are useful for operations that involve the class as a whole, such as accessing or modifying class-level attributes or creating alternative constructors. \n",
    "\"\"\"\n",
    "# Instance method\n",
    "class Inst:\n",
    "    def __init__(self, name):\n",
    "        self.name = name\n",
    "    def introduce(self):\n",
    "        print(\"Hello, I am %s, and my name is \" %(self, self.name))\n",
    "i=Inst(\"RV\")\n",
    "# Class method\n",
    "class Cls:\n",
    "\n",
    "    @classmethod\n",
    "    def introduce(cls):\n",
    "        print(\"Hello, I am %s!\" %cls)"
   ]
  },
  {
   "cell_type": "code",
   "execution_count": 1,
   "id": "dd53cd0b-f73e-4d67-9a34-5824d49defb7",
   "metadata": {},
   "outputs": [
    {
     "name": "stdout",
     "output_type": "stream",
     "text": [
      "60\n",
      "30\n"
     ]
    }
   ],
   "source": [
    "\"\"\"\n",
    "4. How does Python implement method overloading? Give an example.\n",
    "\"\"\"\n",
    "\"\"\"Python does not support the feature of method overloading by default. However, there are alternative ways to achieve it.\n",
    "it is implemented thorugh the Multipledispatch module \"\"\"\n",
    "\n",
    "from multipledispatch import dispatch\n",
    "class example:\n",
    "   @dispatch(int, int)\n",
    "   def add(self, a, b):\n",
    "      x = a+b\n",
    "      return x\n",
    "   @dispatch(int, int, int)\n",
    "   def add(self, a, b, c):\n",
    "      x = a+b+c\n",
    "      return x\n",
    "\n",
    "obj = example()\n",
    "\n",
    "print (obj.add(10,20,30))\n",
    "print (obj.add(10,20))"
   ]
  },
  {
   "cell_type": "code",
   "execution_count": null,
   "id": "4db47976-74cb-4985-a63a-51575ec766e1",
   "metadata": {},
   "outputs": [],
   "source": [
    "\"\"\"\n",
    "5. . What are the three types of access modifiers in Python? How are they denoted?\n",
    "\"\"\"\n",
    "\"\"\"\n",
    "Access Modifiers can be categorized as Public, Protected and Private in a class\n",
    "public modifer is denoted \n",
    "var=\"abc\"\n",
    "private modifier is denoed with double undescore\n",
    "__\n",
    "protected modifer is denoted with single underscore\n",
    "_var=\"abc\"\n",
    "\n",
    "\"\"\"\n"
   ]
  },
  {
   "cell_type": "code",
   "execution_count": null,
   "id": "edb1b2b5-9233-48ce-919d-21b7690652ab",
   "metadata": {},
   "outputs": [],
   "source": []
  },
  {
   "cell_type": "code",
   "execution_count": null,
   "id": "b82e4649-b394-4d65-b95b-868c9b977273",
   "metadata": {},
   "outputs": [],
   "source": [
    "\"\"\"\n",
    "6. Describe the five types of inheritance in Python. Provide a simple example of multiple inheritance\n",
    "\"\"\"\n",
    "\"\"\"\n",
    "Single Inheritance in Python\n",
    "\n",
    "Multiple Inheritances in Python\n",
    "\n",
    "Multilevel Inheritance in Python\n",
    "\n",
    "Hierarchical Inheritance in Python\n",
    "\n",
    "Hybrid Inheritance in Python\n",
    "\"\"\"\n",
    "# Base class 1\n",
    "class Person:\n",
    "    def __init__(self, name):\n",
    "        self.name = name\n",
    "# Base class 2\n",
    "class Employee:\n",
    "    def __init__(self, employee_id):\n",
    "        self.employee_id = employee_id\n",
    "   \n",
    "class Manager(Person, Employee):\n",
    "    def __init__(self, name, employee_id, department):\n",
    "        Person.__init__(self, name)  # Initialize Person part\n",
    "        Employee.__init__(self, employee_id)  # Initialize Employee part\n",
    "        self.department = department\n",
    "    def show_details(self):\n",
    "        return f\"{self.greet()} {self.get_id()} I manage the {self.department} department.\"\n",
    "        \n"
   ]
  },
  {
   "cell_type": "code",
   "execution_count": 2,
   "id": "f6fce3ea-d48a-43f9-ae0c-16156defbc19",
   "metadata": {},
   "outputs": [
    {
     "name": "stdout",
     "output_type": "stream",
     "text": [
      "A process()\n",
      "[<class '__main__.C'>, <class '__main__.A'>, <class '__main__.B'>, <class 'object'>]\n"
     ]
    }
   ],
   "source": [
    "\"\"\"7. What is the Method Resolution Order (MRO) in Python? How can you retrieve it programmatically\n",
    "\"\"\"\n",
    "\"\"\"\n",
    "Method Resolution Order is the sequence in which Python looks for a method in a hierarchy of classes\n",
    "\"\"\"\n",
    "class A:\n",
    "    def process(self):\n",
    "        print('A process()')\n",
    "class B:\n",
    "    pass\n",
    "class C(A, B):\n",
    "    pass\n",
    "obj = C()  \n",
    "obj.process()    \n",
    "print(C.mro())"
   ]
  },
  {
   "cell_type": "code",
   "execution_count": 4,
   "id": "5bba4feb-10b6-4dab-8709-be5f59a02667",
   "metadata": {},
   "outputs": [],
   "source": [
    "\"\"\"8.\n",
    "Create an abstract base class `Shape` with an abstract method `area()`. Then create two subclasses \n",
    "`Circle` and `Rectangle` that implement the `area()` method\n",
    "\"\"\"\n",
    "# Python program showing\n",
    "# abstract base class work\n",
    "from abc import ABC, abstractmethod\n",
    "class Shape(ABC):\n",
    "    @abstractmethod\n",
    "    def sides(self):\n",
    "        pass\n",
    "    @abstractmethod\n",
    "    def area(self):\n",
    "        pass\n",
    "class Rectangle(Shape):\n",
    "    def sides(self,l,b):\n",
    "        self.l=l\n",
    "        self.b=b\n",
    "    def area(self):\n",
    "        return self.l*self.b\n",
    "class Circle(Shape):\n",
    "    def sides(self,r):\n",
    "        pi=22/7\n",
    "        self.r=r\n",
    "    def area(self):\n",
    "        return pi*r**2\n",
    "rect=Rectangle()\n",
    "rect.sides(10,10)\n",
    "\n",
    "        \n",
    "        \n",
    "    "
   ]
  },
  {
   "cell_type": "code",
   "execution_count": 6,
   "id": "051725ce-98f3-4f99-b286-c611caad7ea0",
   "metadata": {},
   "outputs": [
    {
     "data": {
      "text/plain": [
       "100"
      ]
     },
     "execution_count": 6,
     "metadata": {},
     "output_type": "execute_result"
    }
   ],
   "source": [
    "rect.area()\n"
   ]
  },
  {
   "cell_type": "code",
   "execution_count": 10,
   "id": "f98087b0-50ef-421c-9bd8-3519da0a7279",
   "metadata": {},
   "outputs": [
    {
     "name": "stdout",
     "output_type": "stream",
     "text": [
      "200\n",
      "1000\n"
     ]
    }
   ],
   "source": [
    "\"\"\"\n",
    "9. Demonstrate polymorphism by creating a function that can work with different shape objects to calculate \n",
    "and print their areas.\n",
    "\"\"\"\n",
    "from multipledispatch import dispatch\n",
    "class Shape:\n",
    "    @dispatch(int,int)\n",
    "    def area(self,l,b):\n",
    "        print (l*b)\n",
    "    @dispatch(int,int,int)\n",
    "    def area(self,l,b,h):\n",
    "        print(l*b*h)\n",
    "obj1=Shape()\n",
    "obj1.area(10,20)\n",
    "obj1.area(10,10,10)\n"
   ]
  },
  {
   "cell_type": "code",
   "execution_count": 14,
   "id": "ef0c7557-b951-4a09-8372-39cdc9119e73",
   "metadata": {},
   "outputs": [
    {
     "name": "stdout",
     "output_type": "stream",
     "text": [
      "1100\n",
      "500\n",
      "1000\n"
     ]
    }
   ],
   "source": [
    "\"\"\"\n",
    "10. Implement encapsulation in a `BankAccount` class with private attributes for `balance` and \n",
    "`account_number`. Include methods for deposit, withdrawal, and balance inquiry.\n",
    "\"\"\"\n",
    "class Bank:\n",
    "    __balance=1000\n",
    "    def getBalance(self):\n",
    "        print(self.__balance)\n",
    "    def getWithdra(self,withdraw):\n",
    "        print(self.__balance-withdraw)\n",
    "    def deposit(self,deposit):\n",
    "        print(self.__balance+deposit)\n",
    "obj=Bank()\n",
    "obj.deposit(100)\n",
    "obj.getWithdra(500)\n",
    "obj.getBalance()"
   ]
  },
  {
   "cell_type": "code",
   "execution_count": 21,
   "id": "93f68e03-50dd-45ca-a036-9daf01af6d37",
   "metadata": {},
   "outputs": [
    {
     "name": "stdout",
     "output_type": "stream",
     "text": [
      "ABC\n",
      "30\n"
     ]
    }
   ],
   "source": [
    "\"\"\"\n",
    "11. Write a class that overrides the `__str__` and `__add__` magic methods. What will these methods allow \n",
    "you to do?\n",
    "\n",
    "it overrides the system defined functions. in order to reuse the string and add function , we need to reload the kernal.\n",
    "\"\"\"\n",
    "class A:\n",
    "    title =\"ABC\"\n",
    "    def __str__(self):\n",
    "        return f\"{self.title}\"\n",
    "    def __add__(self,a,b):\n",
    "        return a+b\n",
    "        \n",
    "obj=A()\n",
    "print(obj.__str__())\n",
    "print(obj.__add__(10,20))"
   ]
  },
  {
   "cell_type": "code",
   "execution_count": 22,
   "id": "c04bee84-3de7-4c92-8fb6-dfeae47e67a8",
   "metadata": {},
   "outputs": [
    {
     "name": "stdout",
     "output_type": "stream",
     "text": [
      "Function calculate_something(10,) {} Took 0.0000 seconds\n",
      "Function calculate_something(100,) {} Took 0.0008 seconds\n",
      "Function calculate_something(1000,) {} Took 0.0943 seconds\n",
      "Function calculate_something(5000,) {} Took 2.1166 seconds\n",
      "Function calculate_something(10000,) {} Took 8.3336 seconds\n"
     ]
    }
   ],
   "source": [
    "\"\"\"12. \n",
    "Create a decorator that measures and prints the execution time of a function.\n",
    "\"\"\"\n",
    "from functools import wraps\n",
    "import time\n",
    "def timeit(func):\n",
    "    @wraps(func)\n",
    "    def timeit_wrapper(*args, **kwargs):\n",
    "        start_time = time.perf_counter()\n",
    "        result = func(*args, **kwargs)\n",
    "        end_time = time.perf_counter()\n",
    "        total_time = end_time - start_time\n",
    "        print(f'Function {func.__name__}{args} {kwargs} Took {total_time:.4f} seconds')\n",
    "        return result\n",
    "    return timeit_wrapper\n",
    "@timeit\n",
    "def calculate_something(num):\n",
    "    \"\"\"\n",
    "    Simple function that returns sum of all numbers up to the square of num.\n",
    "    \"\"\"\n",
    "    total = sum((x for x in range(0, num**2)))\n",
    "    return total\n",
    "if __name__ == '__main__':\n",
    "    calculate_something(10)\n",
    "    calculate_something(100)\n",
    "    calculate_something(1000)\n",
    "    calculate_something(5000)\n",
    "    calculate_something(10000)"
   ]
  },
  {
   "cell_type": "code",
   "execution_count": null,
   "id": "3f8fd2f7-d163-4409-a77a-861ee22d7775",
   "metadata": {},
   "outputs": [],
   "source": [
    "\"\"\"\n",
    "13. . Explain the concept of the Diamond Problem in multiple inheritance. How does Python resolve it\n",
    "\n",
    "\"\"\"\n",
    "\"\"\"\n",
    "ans\n",
    "  A\n",
    "/   \\\n",
    "B   c\n",
    "\\D /\n",
    "Class D inherits from both B and C, and B and C both inherit from A. Now, if there is a method in A that B and C have overridden, and D does not override it, \n",
    "when a method is invoked in D that is defined in A, the ambiguity is whether it should be invoked from B or C.\n",
    "it uses an approach called Method Resolution Order (MRO), which follows the C3 linearization or just \"C3 superclass linearization\". \n",
    "This algorithm assures that a class always precedes its parents and a parent precedes the other parent if it's derived from it. Python also has super() function that helps with dynamic dispatching.\n",
    "\"\"\""
   ]
  },
  {
   "cell_type": "code",
   "execution_count": null,
   "id": "5b56d947-4d21-4195-a190-51388f289307",
   "metadata": {},
   "outputs": [],
   "source": [
    "\"\"\"\n",
    "14. Write a class method that keeps track of the number of instances created from a class.\n",
    "\"\"\"\n",
    "class MyClass:\n",
    "    count = 0 \n",
    "def __init__(self,name):\n",
    "        self.name = name\n",
    "MyClass.count += 1 \n",
    "obj1=MyClass(\"test\")\n",
    "obj1 = MyClass(\"Test\")\n",
    "obj2 = MyClass(\"Bob\")\n",
    "obj3 = MyClass(\"Charlie\")\n",
    "print(\"Total number of instances created:\", MyClass.count)"
   ]
  },
  {
   "cell_type": "code",
   "execution_count": null,
   "id": "b42523d6-a096-4d07-8f92-fc13f557bd69",
   "metadata": {},
   "outputs": [],
   "source": [
    "\"\"\"15. . Implement a static method in a class that checks if a given year is a leap year.\n",
    "\"\"\"\n",
    "class Leap:\n",
    "    def __init__(self,year):\n",
    "        self.year=year\n",
    "    \n",
    "    def checkYear(year): \n",
    "        import calendar\n",
    "        return(calendar.isleap(year)) \n",
    "year = 2000\n",
    "if (checkYear(year)): \n",
    "    print(\"Leap Year\") \n",
    "else: \n",
    "    print(\"Not a Leap Year\") \n",
    "obj=Leap()\n",
    "Leap(1974)\n",
    "       "
   ]
  }
 ],
 "metadata": {
  "kernelspec": {
   "display_name": "Python 3 (ipykernel)",
   "language": "python",
   "name": "python3"
  },
  "language_info": {
   "codemirror_mode": {
    "name": "ipython",
    "version": 3
   },
   "file_extension": ".py",
   "mimetype": "text/x-python",
   "name": "python",
   "nbconvert_exporter": "python",
   "pygments_lexer": "ipython3",
   "version": "3.12.6"
  }
 },
 "nbformat": 4,
 "nbformat_minor": 5
}
